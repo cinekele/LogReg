{
 "cells": [
  {
   "cell_type": "markdown",
   "metadata": {},
   "source": [
    "# Notebook for visualization of results\n",
    "## Data loading"
   ]
  },
  {
   "cell_type": "code",
   "execution_count": 9,
   "metadata": {
    "tags": []
   },
   "outputs": [],
   "source": [
    "from sklearn.datasets import load_breast_cancer\n",
    "from sklearn.model_selection import train_test_split\n",
    "from sklearn.metrics import roc_curve\n",
    "X, y = load_breast_cancer(return_X_y=True)\n",
    "X_train, X_test, y_train, y_test = train_test_split(\n",
    "    X, y,test_size=0.33, random_state=42)"
   ]
  },
  {
   "cell_type": "markdown",
   "metadata": {},
   "source": [
    "## Sklearn logistic regression\n",
    "I used liblinear solver, because our dataset is small."
   ]
  },
  {
   "cell_type": "code",
   "execution_count": 10,
   "metadata": {},
   "outputs": [
    {
     "data": {
      "text/plain": "(569, 30)"
     },
     "execution_count": 10,
     "metadata": {},
     "output_type": "execute_result"
    }
   ],
   "source": [
    "X.shape"
   ]
  },
  {
   "cell_type": "code",
   "execution_count": 11,
   "metadata": {
    "collapsed": false,
    "jupyter": {
     "outputs_hidden": false
    },
    "pycharm": {
     "name": "#%%\n"
    }
   },
   "outputs": [
    {
     "data": {
      "text/plain": "<Figure size 432x288 with 1 Axes>",
      "image/png": "[encoded data removed]"
     },
     "metadata": {
      "needs_background": "light"
     },
     "output_type": "display_data"
    }
   ],
   "source": [
    "from sklearn.linear_model import LogisticRegression\n",
    "import matplotlib.pyplot as plt\n",
    "\n",
    "logistic_regression = LogisticRegression(solver='liblinear')\n",
    "logistic_regression.fit(X_train, y_train)\n",
    "y_pred = logistic_regression.predict_proba(X_test)\n",
    "\n",
    "def plot_roc_curve(y_true, y_pred):\n",
    "    fpr, tpr, threshold = roc_curve(y_true, y_pred)\n",
    "    plt.plot(fpr, tpr)\n",
    "    plt.xlabel('False Positive Rate')\n",
    "    plt.ylabel('True Positive Rate')\n",
    "\n",
    "plot_roc_curve(y_test, y_pred[:, 1])"
   ]
  },
  {
   "cell_type": "markdown",
   "metadata": {},
   "source": [
    "## My logistic regression"
   ]
  },
  {
   "cell_type": "code",
   "execution_count": 12,
   "metadata": {
    "collapsed": false,
    "jupyter": {
     "outputs_hidden": false
    },
    "pycharm": {
     "name": "#%%\n"
    }
   },
   "outputs": [
    {
     "name": "stdout",
     "output_type": "stream",
     "text": [
      "[1 0 0 1 1 0 0 0 1 1 1 0 1 0 1 0 1 1 1 0 0 1 0 1 1 1 1 1 1 0 1 1 1 1 1 1 0\n",
      " 1 0 1 1 0 1 1 1 1 1 1 1 1 0 0 1 1 1 1 1 0 0 1 1 0 0 1 1 1 0 0 1 1 0 0 1 0\n",
      " 1 1 1 0 1 1 0 1 0 0 0 0 0 0 1 1 1 1 1 1 1 1 0 0 1 0 0 1 0 0 1 1 1 0 1 1 0\n",
      " 1 1 0 1 0 1 1 1 0 1 1 1 0 1 0 0 1 1 0 0 0 1 1 1 0 1 1 1 0 1 0 1 1 0 1 0 0\n",
      " 0 1 0 1 1 1 1 0 0 1 1 1 1 1 1 1 0 1 1 1 1 0 1 1 1 1 1 1 0 1 1 1 1 1 1 0 0\n",
      " 0 1 1] [1.33981704e-002 6.61317031e-031 3.58046124e-013 9.99999830e-001\n",
      " 9.99994185e-001 6.02072408e-018 3.81061213e-030 5.28682911e-005\n",
      " 9.99977128e-001 9.99517090e-001 9.99961795e-001 2.81353592e-011\n",
      " 9.99993865e-001 9.89306323e-001 9.99747663e-001 9.99003232e-001\n",
      " 9.99996820e-001 9.99997722e-001 9.99619557e-001 5.25925383e-017\n",
      " 2.37162582e-003 9.97704962e-001 4.35460319e-026 9.99904649e-001\n",
      " 9.99997431e-001 9.99999523e-001 9.99990910e-001 9.99999400e-001\n",
      " 9.99974519e-001 8.81313840e-032 9.99994777e-001 9.99886391e-001\n",
      " 9.87449043e-001 4.08518013e-002 9.99953522e-001 9.98807426e-001\n",
      " 1.12278000e-009 9.90970155e-001 1.09841382e-020 9.93075674e-001\n",
      " 9.99929334e-001 2.91583291e-009 9.99986336e-001 9.93382308e-001\n",
      " 9.99998098e-001 9.89560646e-001 9.99473980e-001 9.99919412e-001\n",
      " 9.69930188e-001 9.99984869e-001 6.77120028e-018 5.84993814e-022\n",
      " 9.99926290e-001 9.99997666e-001 9.99956020e-001 9.20178768e-001\n",
      " 9.99870508e-001 7.46208331e-025 6.29950727e-001 9.99951657e-001\n",
      " 9.98615474e-001 4.80999668e-018 2.72688786e-021 9.99996206e-001\n",
      " 9.99974439e-001 9.95176203e-001 1.32498025e-017 4.46679948e-009\n",
      " 9.99994603e-001 9.99097806e-001 7.41536254e-003 4.28005209e-019\n",
      " 9.99998256e-001 9.99502984e-001 9.97732527e-001 9.99417005e-001\n",
      " 9.99806395e-001 1.92195390e-003 9.99394539e-001 9.99764136e-001\n",
      " 4.61954193e-010 9.97856311e-001 9.40501763e-001 2.17200732e-026\n",
      " 4.07703881e-007 2.01272182e-002 5.37860604e-004 8.75850919e-016\n",
      " 9.99999953e-001 9.99910146e-001 9.89239195e-001 8.00844196e-001\n",
      " 8.69539568e-001 9.99997313e-001 9.99997672e-001 9.99316888e-001\n",
      " 1.40181273e-015 1.94527116e-021 9.99980010e-001 1.83334029e-009\n",
      " 3.09475985e-018 9.99915519e-001 4.12536500e-025 2.94580281e-009\n",
      " 6.52148685e-001 9.69168987e-001 9.99944093e-001 1.47392909e-051\n",
      " 9.99473367e-001 9.10213736e-001 1.19566075e-013 9.99751963e-001\n",
      " 9.97556999e-001 7.54552138e-105 9.98976141e-001 1.57145800e-031\n",
      " 9.99932981e-001 9.96531899e-001 9.99870458e-001 2.83558286e-005\n",
      " 9.96134944e-001 9.99991081e-001 9.99332035e-001 1.89238050e-012\n",
      " 9.99564856e-001 1.69801337e-024 3.45083396e-013 9.91238080e-001\n",
      " 9.99518000e-001 3.42454586e-025 1.04083942e-047 9.64823738e-001\n",
      " 3.09751912e-001 9.99993810e-001 5.38605176e-002 1.72924839e-005\n",
      " 9.99551028e-001 9.99951931e-001 9.62246813e-001 1.39287603e-012\n",
      " 9.99003078e-001 1.61210900e-053 9.99759720e-001 9.99997195e-001\n",
      " 1.25850532e-006 9.99943549e-001 5.41473926e-014 8.29340348e-010\n",
      " 1.21254479e-004 9.97400440e-001 6.88975444e-008 9.99982990e-001\n",
      " 9.99958672e-001 9.69975497e-001 9.99998702e-001 2.63576056e-036\n",
      " 3.71608650e-003 9.77879632e-001 9.99935169e-001 9.99998909e-001\n",
      " 9.99999227e-001 9.99757677e-001 8.50569456e-001 9.99997739e-001\n",
      " 2.49332980e-002 9.93473443e-001 9.99998998e-001 9.79661898e-001\n",
      " 9.97899963e-001 1.98952198e-001 9.98852997e-001 9.79583952e-001\n",
      " 9.99992573e-001 9.73797836e-001 9.99973793e-001 8.60957651e-001\n",
      " 1.56903823e-005 9.99873574e-001 9.49848117e-001 9.99893114e-001\n",
      " 9.96530105e-001 9.93767410e-001 9.99924206e-001 2.58489318e-014\n",
      " 3.25744748e-020 4.99340563e-009 9.97139770e-001 9.63867446e-001]\n"
     ]
    },
    {
     "name": "stderr",
     "output_type": "stream",
     "text": [
      "C:\\Users\\PC-Komputer\\PycharmProjects\\LogReg\\LogReg.py:78: UserWarning: Wrong learning rate method diverge\n",
      "  warn(\"Wrong learning rate method diverge\")\n"
     ]
    },
    {
     "data": {
      "text/plain": "<Figure size 432x288 with 1 Axes>",
      "image/png": "[encoded data removed]"
     },
     "metadata": {
      "needs_background": "light"
     },
     "output_type": "display_data"
    }
   ],
   "source": [
    "from LogReg import LogReg\n",
    "\n",
    "my_logistic_regression = LogReg(alpha=1e-4, max_num_iters=1000, reg_term=0)\n",
    "my_logistic_regression.train(X_train, y_train)\n",
    "y_pred = my_logistic_regression.predict_proba(X_test)\n",
    "plot_roc_curve(y_test, y_pred)\n",
    "print(y_test, y_pred)"
   ]
  },
  {
   "cell_type": "code",
   "execution_count": 12,
   "metadata": {},
   "outputs": [],
   "source": []
  }
 ],
 "metadata": {
  "kernelspec": {
   "display_name": "Python 3",
   "language": "python",
   "name": "python3"
  },
  "language_info": {
   "codemirror_mode": {
    "name": "ipython",
    "version": 3
   },
   "file_extension": ".py",
   "mimetype": "text/x-python",
   "name": "python",
   "nbconvert_exporter": "python",
   "pygments_lexer": "ipython3",
   "version": "3.8.5"
  }
 },
 "nbformat": 4,
 "nbformat_minor": 4
}